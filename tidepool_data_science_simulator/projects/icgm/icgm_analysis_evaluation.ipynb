{
 "cells": [
  {
   "cell_type": "code",
   "execution_count": null,
   "metadata": {},
   "outputs": [],
   "source": [
    "import pandas as pd\n",
    "from tidepool_data_science_simulator.projects.icgm.icgm_analysis_evaluation import compute_sim_summary_stats, compute_risk_stats, compute_risk_results\n",
    "\n",
    "test_patient_result_dir = \"/Users/mconn/data/simulator/processed/icgm-sensitivity-analysis-results-2024-08-22/\"\n"
   ]
  },
  {
   "cell_type": "code",
   "execution_count": null,
   "metadata": {},
   "outputs": [],
   "source": [
    "summary_result_filepath = compute_sim_summary_stats(test_patient_result_dir)"
   ]
  },
  {
   "cell_type": "code",
   "execution_count": null,
   "metadata": {},
   "outputs": [],
   "source": [
    "summary_df = pd.read_csv(summary_result_filepath, sep=\"\\t\")\n",
    "compute_risk_stats(summary_df)\n",
    "compute_risk_results(summary_df)"
   ]
  }
 ],
 "metadata": {
  "kernelspec": {
   "display_name": "tidepool-data-science-simulator-dev",
   "language": "python",
   "name": "python3"
  },
  "language_info": {
   "codemirror_mode": {
    "name": "ipython",
    "version": 3
   },
   "file_extension": ".py",
   "mimetype": "text/x-python",
   "name": "python",
   "nbconvert_exporter": "python",
   "pygments_lexer": "ipython3",
   "version": "3.12.4"
  }
 },
 "nbformat": 4,
 "nbformat_minor": 2
}
