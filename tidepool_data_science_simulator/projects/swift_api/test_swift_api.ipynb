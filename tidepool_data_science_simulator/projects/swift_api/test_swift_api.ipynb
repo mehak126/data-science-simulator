{
 "cells": [
  {
   "cell_type": "code",
   "execution_count": 23,
   "metadata": {},
   "outputs": [],
   "source": [
    "\n",
    "\n"
   ]
  },
  {
   "cell_type": "code",
   "execution_count": 27,
   "metadata": {},
   "outputs": [
    {
     "name": "stdout",
     "output_type": "stream",
     "text": [
      "2019-08-15 12:00:00\n",
      "[250.0, 250.0, 250.0, 250.0, 250.0, 250.0, 250.0, 250.0, 250.0, 250.0, 250.0, 250.0, 250.0, 250.0, 250.0, 250.0, 250.0, 250.0, 250.0, 250.0, 250.0, 250.0, 250.0, 250.0, 250.0, 250.0, 250.0, 250.0, 250.0, 250.0, 250.0, 250.0, 250.0, 250.0, 250.0, 250.0, 250.0, 250.0, 250.0, 250.0, 250.0, 250.0, 250.0, 250.0, 250.0, 250.0, 250.0, 250.0, 250.0, 250.0, 250.0, 250.0, 250.0, 250.0, 250.0, 250.0, 250.0, 250.0, 250.0, 250.0, 250.0, 250.0, 250.0, 250.0, 250.0, 250.0, 250.0, 250.0, 250.0, 250.0, 250.0, 250.0, 250.0, 250.0, 250.0, 250.0, 250.0, 250.0, 250.0, 250.0, 250.0, 250.0, 250.0, 250.0, 250.0, 250.0, 250.0, 250.0, 250.0, 250.0, 250.0, 250.0, 250.0, 250.0, 250.0, 250.0, 250.0, 250.0, 250.0, 250.0, 250.0, 250.0, 250.0, 250.0, 250.0, 250.0, 250.0, 250.0, 250.0, 250.0, 250.0, 250.0, 250.0, 250.0, 250.0, 250.0, 250.0, 250.0, 250.0, 250.0, 250.0, 250.0, 250.0, 250.0, 250.0, 250.0, 250.0, 250.0, 250.0, 250.0, 250.0, 250.0, 250.0, 250.0, 250.0, 250.0, 250.0]\n",
      "2019-08-15 13:40:00\n",
      "[250.0, 250.0, 250.0, 250.0, 250.0, 250.0, 250.0, 250.0, 250.0, 250.0, 250.0, 250.0, 250.0, 250.0, 250.0, 250.0, 250.0, 250.0, 250.0, 250.0, 250.0, 250.0, 250.0, 250.0, 250.0, 250.0, 250.0, 250.0, 250.0, 250.0, 250.0, 250.0, 250.0, 250.0, 250.0, 250.0, 250.0, 250.0, 250.0, 250.0, 250.0, 250.0, 250.0, 250.0, 250.0, 250.0, 250.0, 250.0, 250.0, 250.0, 250.0, 250.0, 250.0, 250.0, 250.0, 250.0, 250.0, 250.0, 250.0, 250.0, 250.0, 250.0, 250.0, 250.0, 250.0, 250.0, 250.0, 250.0, 250.0, 250.0, 250.0, 250.0, 250.0, 250.0, 250.0, 250.0, 250.0, 250.0, 250.0, 250.0, 250.0, 250.0, 250.0, 250.0, 250.0, 250.0, 250.0, 250.0, 250.0, 250.0, 250.0, 250.0, 250.0, 250.0, 250.0, 250.0, 250.0, 250.0, 250.0, 250.0, 250.0, 250.0, 250.0, 250.0, 250.0, 250.0, 250.0, 250.0, 250.0, 250.0, 250.0, 250.0, 250.0, 250.0, 250.0, 250.0, 250.0, 250.0, 250.0, 250.0, 250.0, 250.0, 250.0, 250.0, 250.0, 250.0, 250.0, 250.0, 250.0, 250.0, 250.0, 250.0, 250.0, 250.0, 250.0, 250.0, 250.0, 249.0, 248.0, 246.0, 242.0, 259.0, 272.0, 282.0, 289.0, 294.0, 296.0, 297.0, 297.0, 295.0, 291.0, 287.0, 283.0, 277.0, 271.0, 265.0, 258.0]\n"
     ]
    }
   ],
   "source": [
    "__author__ = \"Mark Connolly\"\n",
    "\n",
    "from datetime import datetime, timedelta\n",
    "\n",
    "from tidepool_data_science_models.models.simple_metabolism_model import SimpleMetabolismModel\n",
    "\n",
    "from tidepool_data_science_simulator.models.simulation import Simulation, TargetRangeSchedule24hr\n",
    "from tidepool_data_science_simulator.models.controller import DoNothingController, LoopController\n",
    "from tidepool_data_science_simulator.models.patient import VirtualPatient\n",
    "from tidepool_data_science_simulator.models.pump import ContinuousInsulinPump\n",
    "from tidepool_data_science_simulator.models.sensor import IdealSensor\n",
    "\n",
    "from tidepool_data_science_simulator.makedata.make_simulation import get_canonical_simulation\n",
    "from tidepool_data_science_simulator.makedata.make_controller import get_canonical_controller_config\n",
    "from tidepool_data_science_simulator.makedata.make_patient import (\n",
    "  DATETIME_DEFAULT, get_canonical_risk_patient_config, get_canonical_risk_pump_config,\n",
    "    get_canonical_sensor_config\n",
    ")\n",
    "\n",
    "from tidepool_data_science_simulator.models.events import BolusTimeline, CarbTimeline\n",
    "from tidepool_data_science_simulator.models.measures import Bolus, Carb, TargetRange\n",
    "import json\n",
    "from loop_to_python_api.api import get_loop_recommendations\n",
    "\n",
    "t0, patient_config = get_canonical_risk_patient_config(start_glucose_value=250)\n",
    "t0, sensor_config = get_canonical_sensor_config(start_value=250)\n",
    "t0, controller_config = get_canonical_controller_config()\n",
    "t0, pump_config = get_canonical_risk_pump_config()\n",
    "\n",
    "bolus_timeline = BolusTimeline(datetimes=[t0], events=[Bolus(1.0, \"U\")])\n",
    "patient_config.bolus_event_timeline = bolus_timeline\n",
    "pump_config.bolus_event_timeline = bolus_timeline\n",
    "\n",
    "true_carb_timeline = CarbTimeline(datetimes=[t0], events=[Carb(20.0, \"U\", 180)])\n",
    "patient_config.carb_event_timeline = true_carb_timeline\n",
    "reported_carb_timeline = CarbTimeline(datetimes=[t0], events=[Carb(25.0, \"U\", 240)])\n",
    "pump_config.carb_event_timeline = reported_carb_timeline\n",
    "\n",
    "pump = ContinuousInsulinPump(pump_config, t0)\n",
    "sensor = IdealSensor(t0, sensor_config)\n",
    "\n",
    "controller = LoopController(t0, controller_config)\n",
    "\n",
    "vp = VirtualPatient(\n",
    "    time=DATETIME_DEFAULT,\n",
    "    pump=pump,\n",
    "    sensor=sensor,\n",
    "    metabolism_model=SimpleMetabolismModel,\n",
    "    patient_config=patient_config\n",
    ")\n",
    "\n",
    "loop_input = controller.prepare_inputs(virtual_patient=vp)\n",
    "\n",
    "sim_id = \"test_swift_api\"\n",
    "sim = Simulation(\n",
    "    time=t0,\n",
    "    duration_hrs=24,\n",
    "    virtual_patient=vp,\n",
    "    controller=controller,\n",
    "    sim_id=sim_id\n",
    ")\n",
    "\n",
    "loop_input = sim.controller.prepare_inputs(virtual_patient=vp)\n",
    "print(loop_input['time_to_calculate_at'])\n",
    "print(loop_input['glucose_values'])\n",
    "\n",
    "for _ in range(0, 20):\n",
    "    sim.step()\n",
    "    sim.store_state()\n",
    "\n",
    "loop_input = sim.controller.prepare_inputs(virtual_patient=vp)\n",
    "print(loop_input['time_to_calculate_at'])\n",
    "print(loop_input['glucose_values'])"
   ]
  },
  {
   "cell_type": "code",
   "execution_count": 28,
   "metadata": {},
   "outputs": [
    {
     "ename": "AttributeError",
     "evalue": "dlsym(0x86e418f0, run): symbol not found",
     "output_type": "error",
     "traceback": [
      "\u001b[0;31m---------------------------------------------------------------------------\u001b[0m",
      "\u001b[0;31mAttributeError\u001b[0m                            Traceback (most recent call last)",
      "Cell \u001b[0;32mIn[28], line 137\u001b[0m\n\u001b[1;32m    134\u001b[0m data[\u001b[38;5;124m'\u001b[39m\u001b[38;5;124mrecommendationType\u001b[39m\u001b[38;5;124m'\u001b[39m] \u001b[38;5;241m=\u001b[39m \u001b[38;5;124m'\u001b[39m\u001b[38;5;124mautomaticBolus\u001b[39m\u001b[38;5;124m'\u001b[39m\n\u001b[1;32m    136\u001b[0m data_string \u001b[38;5;241m=\u001b[39m json\u001b[38;5;241m.\u001b[39mdumps(data)\n\u001b[0;32m--> 137\u001b[0m loop_output \u001b[38;5;241m=\u001b[39m \u001b[43mget_loop_recommendations\u001b[49m\u001b[43m(\u001b[49m\u001b[43mdata_string\u001b[49m\u001b[43m)\u001b[49m\n\u001b[1;32m    138\u001b[0m data \u001b[38;5;241m=\u001b[39m json\u001b[38;5;241m.\u001b[39mloads(loop_output)\n\u001b[1;32m    139\u001b[0m \u001b[38;5;28mprint\u001b[39m(data)\n",
      "File \u001b[0;32m~/tidepool/repositories/LoopAlgorithmToPython/loop_to_python_api/api.py:98\u001b[0m, in \u001b[0;36mget_loop_recommendations\u001b[0;34m(json_file, len)\u001b[0m\n\u001b[1;32m     95\u001b[0m swift_lib\u001b[38;5;241m.\u001b[39mgetLoopRecommendations\u001b[38;5;241m.\u001b[39margtypes \u001b[38;5;241m=\u001b[39m [ctypes\u001b[38;5;241m.\u001b[39mc_char_p]\n\u001b[1;32m     96\u001b[0m swift_lib\u001b[38;5;241m.\u001b[39mgetLoopRecommendations\u001b[38;5;241m.\u001b[39mrestype \u001b[38;5;241m=\u001b[39m ctypes\u001b[38;5;241m.\u001b[39mc_char_p\n\u001b[0;32m---> 98\u001b[0m \u001b[38;5;28;01mreturn\u001b[39;00m \u001b[43mswift_lib\u001b[49m\u001b[38;5;241;43m.\u001b[39;49m\u001b[43mrun\u001b[49m(json_bytes)\n",
      "File \u001b[0;32m~/miniconda3/envs/tidepool-data-science-simulator-dev/lib/python3.12/ctypes/__init__.py:392\u001b[0m, in \u001b[0;36mCDLL.__getattr__\u001b[0;34m(self, name)\u001b[0m\n\u001b[1;32m    390\u001b[0m \u001b[38;5;28;01mif\u001b[39;00m name\u001b[38;5;241m.\u001b[39mstartswith(\u001b[38;5;124m'\u001b[39m\u001b[38;5;124m__\u001b[39m\u001b[38;5;124m'\u001b[39m) \u001b[38;5;129;01mand\u001b[39;00m name\u001b[38;5;241m.\u001b[39mendswith(\u001b[38;5;124m'\u001b[39m\u001b[38;5;124m__\u001b[39m\u001b[38;5;124m'\u001b[39m):\n\u001b[1;32m    391\u001b[0m     \u001b[38;5;28;01mraise\u001b[39;00m \u001b[38;5;167;01mAttributeError\u001b[39;00m(name)\n\u001b[0;32m--> 392\u001b[0m func \u001b[38;5;241m=\u001b[39m \u001b[38;5;28;43mself\u001b[39;49m\u001b[38;5;241;43m.\u001b[39;49m\u001b[38;5;21;43m__getitem__\u001b[39;49m\u001b[43m(\u001b[49m\u001b[43mname\u001b[49m\u001b[43m)\u001b[49m\n\u001b[1;32m    393\u001b[0m \u001b[38;5;28msetattr\u001b[39m(\u001b[38;5;28mself\u001b[39m, name, func)\n\u001b[1;32m    394\u001b[0m \u001b[38;5;28;01mreturn\u001b[39;00m func\n",
      "File \u001b[0;32m~/miniconda3/envs/tidepool-data-science-simulator-dev/lib/python3.12/ctypes/__init__.py:397\u001b[0m, in \u001b[0;36mCDLL.__getitem__\u001b[0;34m(self, name_or_ordinal)\u001b[0m\n\u001b[1;32m    396\u001b[0m \u001b[38;5;28;01mdef\u001b[39;00m \u001b[38;5;21m__getitem__\u001b[39m(\u001b[38;5;28mself\u001b[39m, name_or_ordinal):\n\u001b[0;32m--> 397\u001b[0m     func \u001b[38;5;241m=\u001b[39m \u001b[38;5;28;43mself\u001b[39;49m\u001b[38;5;241;43m.\u001b[39;49m\u001b[43m_FuncPtr\u001b[49m\u001b[43m(\u001b[49m\u001b[43m(\u001b[49m\u001b[43mname_or_ordinal\u001b[49m\u001b[43m,\u001b[49m\u001b[43m \u001b[49m\u001b[38;5;28;43mself\u001b[39;49m\u001b[43m)\u001b[49m\u001b[43m)\u001b[49m\n\u001b[1;32m    398\u001b[0m     \u001b[38;5;28;01mif\u001b[39;00m \u001b[38;5;129;01mnot\u001b[39;00m \u001b[38;5;28misinstance\u001b[39m(name_or_ordinal, \u001b[38;5;28mint\u001b[39m):\n\u001b[1;32m    399\u001b[0m         func\u001b[38;5;241m.\u001b[39m\u001b[38;5;18m__name__\u001b[39m \u001b[38;5;241m=\u001b[39m name_or_ordinal\n",
      "\u001b[0;31mAttributeError\u001b[0m: dlsym(0x86e418f0, run): symbol not found"
     ]
    }
   ],
   "source": []
  },
  {
   "cell_type": "code",
   "execution_count": null,
   "metadata": {},
   "outputs": [],
   "source": []
  }
 ],
 "metadata": {
  "kernelspec": {
   "display_name": "tidepool-data-science-simulator-dev",
   "language": "python",
   "name": "python3"
  },
  "language_info": {
   "codemirror_mode": {
    "name": "ipython",
    "version": 3
   },
   "file_extension": ".py",
   "mimetype": "text/x-python",
   "name": "python",
   "nbconvert_exporter": "python",
   "pygments_lexer": "ipython3",
   "version": "3.12.6"
  }
 },
 "nbformat": 4,
 "nbformat_minor": 2
}
